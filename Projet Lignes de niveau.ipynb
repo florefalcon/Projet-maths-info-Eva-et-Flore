{
 "cells": [
  {
   "cell_type": "markdown",
   "metadata": {},
   "source": [
    "# Projet numérique : lignes de niveau"
   ]
  },
  {
   "cell_type": "code",
   "execution_count": 6,
   "metadata": {},
   "outputs": [],
   "source": [
    "import autograd\n",
    "from autograd import numpy as np\n",
    "import matplotlib.pyplot as plt"
   ]
  },
  {
   "cell_type": "markdown",
   "metadata": {},
   "source": [
    "Exemples de fonction qui nous permettront de tester nos algorithmes :"
   ]
  },
  {
   "cell_type": "code",
   "execution_count": 7,
   "metadata": {},
   "outputs": [],
   "source": [
    "def f(x,y):\n",
    "    return(x**2+y**2)\n",
    "\n",
    "def g(x,y):\n",
    "    return(2*x**2+3*y)\n",
    "\n",
    "def h(x,y):\n",
    "    return(np.exp(x+y))"
   ]
  },
  {
   "cell_type": "markdown",
   "metadata": {},
   "source": [
    "## Contour simple"
   ]
  },
  {
   "cell_type": "markdown",
   "metadata": {},
   "source": [
    "### Amorce"
   ]
  },
  {
   "cell_type": "markdown",
   "metadata": {},
   "source": [
    "D'après le théorème des valeurs intermédiaires, et par continuité de $y \\rightarrow f(0,y)$, si $f(0,1) \\leq c \\leq f(0,0)$ ou $f(0,0) \\leq c \\leq f(0,1)$, alors il existe t tel que $f(0,t)=c$.\n",
    "Si cette condition est remplie, on peut approcher la solution t par dichotomie."
   ]
  },
  {
   "cell_type": "code",
   "execution_count": 8,
   "metadata": {},
   "outputs": [],
   "source": [
    "def find_seed(g,c=0,eps=2**(-26)):\n",
    "    a,b=0,1\n",
    "    if ((g(0,1)<=c<=g(0,0)) or (g(0,0)<=c<=g(0,1))):\n",
    "        while (b-a)>eps:\n",
    "            if g(0,(b+a)/2)>c:\n",
    "                b=(b+a)/2\n",
    "            else:\n",
    "                a=(b+a)/2\n",
    "        return((b+a)/2)\n",
    "    else:\n",
    "        return None    "
   ]
  },
  {
   "cell_type": "code",
   "execution_count": 9,
   "metadata": {},
   "outputs": [],
   "source": [
    "def find_seed_newton(g,c=0.0,eps=2**(-26)):\n",
    "    init=0.1\n",
    "    if ((g(0,1)<=c<=g(0,0)) or (g(0,0)<=c<=g(0,1))):\n",
    "        def f(y):\n",
    "            return(g(0,y)-c)\n",
    "        Y=[init,-f(init)/autograd.grad(f)(init)]\n",
    "        k=0\n",
    "        while abs(Y[k]-Y[k+1])>eps :\n",
    "            Y.append(Y[k]-(f(Y[k]))/autograd.grad(f)(Y[k]))\n",
    "            k+=1\n",
    "        return Y[-1]\n",
    "    else:\n",
    "        return None"
   ]
  },
  {
   "cell_type": "markdown",
   "metadata": {},
   "source": [
    "#### Comparaison des deux algorithmes en précision et en rapidité"
   ]
  },
  {
   "cell_type": "code",
   "execution_count": 10,
   "metadata": {},
   "outputs": [
    {
     "name": "stdout",
     "output_type": "stream",
     "text": [
      "7.450580596923828e-09\n",
      "5.37225819385867e-12\n",
      "1.4901161138336505e-09\n",
      "0.0\n",
      "-5.545926273775592e-09\n",
      "4.440892098500626e-16\n"
     ]
    }
   ],
   "source": [
    "print(find_seed(f,0.25)-0.5)\n",
    "print(find_seed_newton(f,0.25)-0.5)\n",
    "\n",
    "print(find_seed(g,0.3)-0.1)\n",
    "print(find_seed_newton(g,0.3)-0.1)\n",
    "\n",
    "print(find_seed(h,2)-np.log(2.0))\n",
    "print(find_seed_newton(h,2.0)-np.log(2.0))"
   ]
  },
  {
   "cell_type": "markdown",
   "metadata": {},
   "source": [
    "L'algorithme qui utilise la méthode de Newton a dans chacun des cas testés une bien meilleure précision."
   ]
  },
  {
   "cell_type": "code",
   "execution_count": 11,
   "metadata": {},
   "outputs": [
    {
     "name": "stdout",
     "output_type": "stream",
     "text": [
      "Temps d execution : 0.0009965896606445312 secondes ---\n",
      "Temps d execution : 0.005000591278076172 secondes ---\n",
      "Temps d execution : 0.0 secondes ---\n",
      "Temps d execution : 0.0009906291961669922 secondes ---\n",
      "Temps d execution : 0.0 secondes ---\n",
      "Temps d execution : 0.004926204681396484 secondes ---\n"
     ]
    }
   ],
   "source": [
    "import time\n",
    "\n",
    "start_time = time.time()\n",
    "find_seed(f,0.25)\n",
    "print(\"Temps d execution : %s secondes ---\" % (time.time() - start_time))\n",
    "\n",
    "start_time = time.time()\n",
    "find_seed_newton(f,0.1)\n",
    "print(\"Temps d execution : %s secondes ---\" % (time.time() - start_time))\n",
    "\n",
    "start_time = time.time()\n",
    "find_seed(g,0.3)\n",
    "print(\"Temps d execution : %s secondes ---\" % (time.time() - start_time))\n",
    "\n",
    "start_time = time.time()\n",
    "find_seed_newton(g,0.3)\n",
    "print(\"Temps d execution : %s secondes ---\" % (time.time() - start_time))\n",
    "\n",
    "start_time = time.time()\n",
    "find_seed(h,2.0)\n",
    "print(\"Temps d execution : %s secondes ---\" % (time.time() - start_time))\n",
    "\n",
    "start_time = time.time()\n",
    "find_seed_newton(h,2.0)\n",
    "print(\"Temps d execution : %s secondes ---\" % (time.time() - start_time))"
   ]
  },
  {
   "cell_type": "markdown",
   "metadata": {},
   "source": [
    "La méthode par dichotomie est dans chacun des exemples plus rapide (facteur 10) que la méthode de Newton. "
   ]
  },
  {
   "cell_type": "markdown",
   "metadata": {},
   "source": [
    "### Propagation"
   ]
  },
  {
   "cell_type": "markdown",
   "metadata": {},
   "source": [
    "**Propriété 1:**\n",
    "Soit $E$ un espace euclidien.\n",
    "Soit $U$ un ouvert de $E$ et $f:U\\rightarrow \\mathbb{R}$ différentiable en $a \\in U$\n",
    "Soit $X$ la ligne de niveau de $f$ passant par a. $X=\\{x \\in U / f(x)=a\\}$\n",
    "Soit $h \\in E$.\n",
    "Si h est tangent à $X$, alors $\\langle h,\\vec{\\mathrm{grad}}f(a) \\rangle = 0$"
   ]
  },
  {
   "cell_type": "markdown",
   "metadata": {},
   "source": [
    "On utilise cette propriété pour trouver à chaque étape un vecteur tangent à la ligne de niveau et on avance de \\delta dans cette direction"
   ]
  },
  {
   "cell_type": "code",
   "execution_count": 12,
   "metadata": {},
   "outputs": [
    {
     "data": {
      "text/plain": [
       "array([ 0.01, -0.  ])"
      ]
     },
     "execution_count": 12,
     "metadata": {},
     "output_type": "execute_result"
    }
   ],
   "source": [
    "def tang_norm(f,x,y,delta=0.01):\n",
    "    \"\"\"retourne un vecteur, de norme delta, orthogonal au gradient de f en (x,y), donc tangent à la ligne de niveau de f en (x,y)\"\"\"\n",
    "    g=autograd.grad\n",
    "    normed=delta/((g(f,0)(x,y)**2+g(f,1)(x,y)**2)**(0.5))\n",
    "    return np.r_[g(f,1)(x,y)*normed,-g(f,0)(x,y)*normed]\n",
    "\n",
    "tang_norm(f,0.0,0.5)\n"
   ]
  },
  {
   "cell_type": "code",
   "execution_count": 13,
   "metadata": {},
   "outputs": [],
   "source": [
    "def simple_contour_naif(f,c=0.0,d=0.01):\n",
    "    eps=2**(-25)\n",
    "    x,y=[],[]\n",
    "    t=find_seed(f,c)\n",
    "    if isinstance(t,float):\n",
    "        x.append(0.0)\n",
    "        y.append(t)\n",
    "        (xi,yi)=(0.0,t)+tang_norm(f,0.0,t,d)\n",
    "        while (xi>eps and (1-eps)>xi and yi>eps and (1-eps)>yi):\n",
    "            x.append(xi)\n",
    "            y.append(yi)\n",
    "            (xi,yi)=(xi,yi)+tang_norm(f,xi,yi,d)\n",
    "        return (np.array(x),np.array(y))\n",
    "    else:\n",
    "        return (np.array(x),np.array(x))"
   ]
  },
  {
   "cell_type": "code",
   "execution_count": 14,
   "metadata": {},
   "outputs": [
    {
     "data": {
      "image/png": "[encoded data removed]",
      "text/plain": [
       "<Figure size 432x288 with 1 Axes>"
      ]
     },
     "metadata": {
      "needs_background": "light"
     },
     "output_type": "display_data"
    }
   ],
   "source": [
    "X,Y=simple_contour_naif(f,0.25,0.01)\n",
    "plt.plot(X,Y)\n",
    "plt.axis(\"equal\")\n",
    "plt.show()"
   ]
  },
  {
   "cell_type": "code",
   "execution_count": 15,
   "metadata": {},
   "outputs": [
    {
     "data": {
      "image/png": "[encoded data removed]",
      "text/plain": [
       "<Figure size 432x288 with 1 Axes>"
      ]
     },
     "metadata": {
      "needs_background": "light"
     },
     "output_type": "display_data"
    }
   ],
   "source": [
    "X,Y=simple_contour_naif(g,0.3,0.01)\n",
    "plt.plot(X,Y)\n",
    "plt.axis(\"equal\")\n",
    "plt.show()"
   ]
  },
  {
   "cell_type": "code",
   "execution_count": 16,
   "metadata": {},
   "outputs": [
    {
     "data": {
      "image/png": "[encoded data removed]",
      "text/plain": [
       "<Figure size 432x288 with 1 Axes>"
      ]
     },
     "metadata": {
      "needs_background": "light"
     },
     "output_type": "display_data"
    }
   ],
   "source": [
    "X,Y=simple_contour_naif(h,2.0,0.01)\n",
    "plt.plot(X,Y)\n",
    "plt.axis(\"equal\")\n",
    "plt.show()"
   ]
  },
  {
   "cell_type": "code",
   "execution_count": 60,
   "metadata": {},
   "outputs": [],
   "source": [
    "def Jac(f,x,y):\n",
    "    j=autograd.jacobian\n",
    "    return np.c_[j(f,0)(x,y),j(f,1)(x,y)]"
   ]
  },
  {
   "cell_type": "code",
   "execution_count": 62,
   "metadata": {},
   "outputs": [],
   "source": [
    "def recherche_point_newton(f,xi,yi,d,c,eps):\n",
    "    \n",
    "    def F(x,y):\n",
    "        return np.array([f(x,y)-c,(x-xi)**2+(y-yi)**2-d**2])\n",
    "    \n",
    "    (x,y)=(xi,yi)+tang_norm(f,xi,yi,d)\n",
    "    \n",
    "    while F(x,y)[0]**2+F(x,y)[1]**2 > eps**2:\n",
    "        J=Jac(F,x,y)\n",
    "        (x,y)=(x,y)-np.dot(np.linalg.inv(J),F(x,y))\n",
    "        \n",
    "    return (x,y)"
   ]
  },
  {
   "cell_type": "code",
   "execution_count": 63,
   "metadata": {},
   "outputs": [],
   "source": [
    "def simple_contour(f,c=0.0,d=0.01):\n",
    "    eps=2**(-25)\n",
    "    x,y=[],[]\n",
    "    t=find_seed(f,c)\n",
    "    if isinstance(t,float):\n",
    "        x.append(0.0)\n",
    "        y.append(t)\n",
    "        (xi,yi)=recherche_point_newton(f,0.0,t,d,c,eps)\n",
    "        x.append(xi)\n",
    "        y.append(yi)\n",
    "        while (xi>eps and (1-eps)>xi and yi>eps and (1-eps)>yi):\n",
    "            (xi,yi)=recherche_point_newton(f,xi,yi,d,c,eps)\n",
    "            x.append(xi)\n",
    "            y.append(yi)\n",
    "        return (np.array(x),np.array(y))\n",
    "    else:\n",
    "        return (np.array(x),np.array(x))"
   ]
  },
  {
   "cell_type": "code",
   "execution_count": 84,
   "metadata": {},
   "outputs": [
    {
     "data": {
      "image/png": "[encoded data removed]",
      "text/plain": [
       "<Figure size 432x288 with 1 Axes>"
      ]
     },
     "metadata": {
      "needs_background": "light"
     },
     "output_type": "display_data"
    }
   ],
   "source": [
    "X,Y=simple_contour(f,c=0.25)\n",
    "plt.plot(X,Y)\n",
    "plt.axis(\"equal\")\n",
    "plt.show()"
   ]
  },
  {
   "cell_type": "markdown",
   "metadata": {},
   "source": [
    "## Contour complexe"
   ]
  },
  {
   "cell_type": "code",
   "execution_count": 66,
   "metadata": {},
   "outputs": [],
   "source": [
    "def find_seed_cellule (g,c,i,j,xc,yc,eps=2**-26):\n",
    "    seeds=[]\n",
    "    \n",
    "    for k in range (0,2):\n",
    "        a,b=yc[j],yc[j+1]\n",
    "        if ((g(xc[i+k],yc[j])<=c<=g(xc[i+k],yc[j+1])) or (g(xc[i+k],yc[j+1])<=c<=g(xc[i+k],yc[j]))):\n",
    "            while (b-a)>eps:\n",
    "                if g(0,(b+a)/2)>c:\n",
    "                    b=(b+a)/2\n",
    "                else:\n",
    "                    a=(b+a)/2\n",
    "            seeds.append((xc[i+k],(b+a)/2))\n",
    "        \n",
    "        a,b=xc[i],xc[i+1]\n",
    "        if ((g(xc[i],yc[j+k])<=c<=g(xc[i+1],yc[j+k])) or (g(xc[i+1],yc[j+k])<=c<=g(xc[i],yc[j+k]))):\n",
    "            while (b-a)>eps:\n",
    "                if g(0,(b+a)/2)>c:\n",
    "                    b=(b+a)/2\n",
    "                else:\n",
    "                    a=(b+a)/2\n",
    "            seeds.append(((b+a)/2,yc[j+k]))\n",
    "            \n",
    "    return seeds"
   ]
  },
  {
   "cell_type": "code",
   "execution_count": 72,
   "metadata": {},
   "outputs": [],
   "source": [
    "def contour_complexe (g,c=0.0,xc=[0.0,1.0],yc=[0.0,1.0],d=0.01):\n",
    "    xs,ys=[],[]\n",
    "    for i in range (0,len(xc)-1):\n",
    "        for j in range (0,len(yc)-1):\n",
    "            seeds=find_seed_cellule (g,c,i,j,xc,yc)\n",
    "            for (tx,ty) in seeds:\n",
    "                eps=2**(-35)\n",
    "                xs.append(tx)\n",
    "                ys.append(ty)\n",
    "                (xi,yi)=(tx,ty)+tang_norm(f,tx,ty,d)\n",
    "                while (xi>eps and (1-eps)>xi and yi>eps and (1-eps)>yi):\n",
    "                    xs.append(xi)\n",
    "                    ys.append(yi)\n",
    "                    (xi,yi)=(xi,yi)+tang_norm(f,xi,yi,d)\n",
    "    return (np.array(xs),np.array(ys))"
   ]
  },
  {
   "cell_type": "code",
   "execution_count": 82,
   "metadata": {},
   "outputs": [
    {
     "data": {
      "text/plain": [
       "(array([ 0.00000000e+00, -7.45058060e-09, -7.45058060e-09,  0.00000000e+00,\n",
       "         1.00000000e-02,  1.99980006e-02,  2.99900054e-02,  3.99720228e-02,\n",
       "         4.99400675e-02,  5.98901623e-02,  6.98183395e-02,  7.97206425e-02,\n",
       "         8.95931273e-02,  9.94318644e-02,  1.09232940e-01,  1.18992457e-01,\n",
       "         1.28706538e-01,  1.38371326e-01,  1.47982986e-01,  1.57537705e-01,\n",
       "         1.67031697e-01,  1.76461200e-01,  1.85822483e-01,  1.95111842e-01,\n",
       "         2.04325603e-01,  2.13460127e-01,  2.22511807e-01,  2.31477070e-01,\n",
       "         2.40352380e-01,  2.49134241e-01,  2.57819194e-01,  2.66403819e-01,\n",
       "         2.74884741e-01,  2.83258625e-01,  2.91522183e-01,  2.99672170e-01,\n",
       "         3.07705390e-01,  3.15618693e-01,  3.23408980e-01,  3.31073201e-01,\n",
       "         3.38608359e-01,  3.46011508e-01,  3.53279757e-01,  3.60410269e-01,\n",
       "         3.67400263e-01,  3.74247015e-01,  3.80947861e-01,  3.87500192e-01,\n",
       "         3.93901462e-01,  4.00149185e-01,  4.06240937e-01,  4.12174356e-01,\n",
       "         4.17947144e-01,  4.23557067e-01,  4.29001957e-01,  4.34279712e-01,\n",
       "         4.39388295e-01,  4.44325739e-01,  4.49090143e-01,  4.53679677e-01,\n",
       "         4.58092577e-01,  4.62327154e-01,  4.66381785e-01,  4.70254922e-01,\n",
       "         4.73945086e-01,  4.77450872e-01,  4.80770947e-01,  4.83904052e-01,\n",
       "         4.86849002e-01,  4.89604684e-01,  4.92170062e-01,  4.94544172e-01,\n",
       "         4.96726128e-01,  4.98715116e-01,  5.00510402e-01,  5.02111324e-01,\n",
       "         5.03517297e-01,  5.04727812e-01,  5.05742438e-01,  5.06560817e-01,\n",
       "         5.07182671e-01,  5.07607797e-01,  5.07836067e-01,  0.00000000e+00,\n",
       "         5.00000007e-01,  0.00000000e+00,  1.00000000e-02,  1.99980006e-02,\n",
       "         2.99900054e-02,  3.99720228e-02,  4.99400675e-02,  5.98901623e-02,\n",
       "         6.98183395e-02,  7.97206425e-02,  8.95931273e-02,  9.94318644e-02,\n",
       "         1.09232940e-01,  1.18992457e-01,  1.28706538e-01,  1.38371326e-01,\n",
       "         1.47982986e-01,  1.57537705e-01,  1.67031697e-01,  1.76461200e-01,\n",
       "         1.85822483e-01,  1.95111842e-01,  2.04325603e-01,  2.13460127e-01,\n",
       "         2.22511807e-01,  2.31477070e-01,  2.40352380e-01,  2.49134241e-01,\n",
       "         2.57819194e-01,  2.66403819e-01,  2.74884741e-01,  2.83258625e-01,\n",
       "         2.91522183e-01,  2.99672170e-01,  3.07705390e-01,  3.15618693e-01,\n",
       "         3.23408980e-01,  3.31073201e-01,  3.38608359e-01,  3.46011508e-01,\n",
       "         3.53279757e-01,  3.60410269e-01,  3.67400263e-01,  3.74247015e-01,\n",
       "         3.80947861e-01,  3.87500192e-01,  3.93901462e-01,  4.00149185e-01,\n",
       "         4.06240937e-01,  4.12174356e-01,  4.17947144e-01,  4.23557067e-01,\n",
       "         4.29001957e-01,  4.34279712e-01,  4.39388295e-01,  4.44325739e-01,\n",
       "         4.49090143e-01,  4.53679677e-01,  4.58092577e-01,  4.62327154e-01,\n",
       "         4.66381785e-01,  4.70254922e-01,  4.73945086e-01,  4.77450872e-01,\n",
       "         4.80770947e-01,  4.83904052e-01,  4.86849002e-01,  4.89604684e-01,\n",
       "         4.92170062e-01,  4.94544172e-01,  4.96726128e-01,  4.98715116e-01,\n",
       "         5.00510402e-01,  5.02111324e-01,  5.03517297e-01,  5.04727812e-01,\n",
       "         5.05742438e-01,  5.06560817e-01,  5.07182671e-01,  5.07607797e-01,\n",
       "         5.07836067e-01,  5.00000007e-01]),\n",
       " array([-7.45058060e-09,  0.00000000e+00,  0.00000000e+00,  5.00000007e-01,\n",
       "         5.00000007e-01,  4.99800047e-01,  4.99400247e-01,  4.98800807e-01,\n",
       "         4.98002005e-01,  4.97004201e-01,  4.95807833e-01,  4.94413417e-01,\n",
       "         4.92821549e-01,  4.91032903e-01,  4.89048231e-01,  4.86868363e-01,\n",
       "         4.84494205e-01,  4.81926741e-01,  4.79167031e-01,  4.76216210e-01,\n",
       "         4.73075491e-01,  4.69746157e-01,  4.66229570e-01,  4.62527163e-01,\n",
       "         4.58640442e-01,  4.54570986e-01,  4.50320445e-01,  4.45890540e-01,\n",
       "         4.41283062e-01,  4.36499871e-01,  4.31542896e-01,  4.26414133e-01,\n",
       "         4.21115645e-01,  4.15649562e-01,  4.10018078e-01,  4.04223451e-01,\n",
       "         3.98268001e-01,  3.92154113e-01,  3.85884230e-01,  3.79460858e-01,\n",
       "         3.72886560e-01,  3.66163957e-01,  3.59295729e-01,  3.52284609e-01,\n",
       "         3.45133386e-01,  3.37844904e-01,  3.30422056e-01,  3.22867788e-01,\n",
       "         3.15185097e-01,  3.07377028e-01,  2.99446671e-01,  2.91397165e-01,\n",
       "         2.83231694e-01,  2.74953484e-01,  2.66565804e-01,  2.58071965e-01,\n",
       "         2.49475316e-01,  2.40779245e-01,  2.31987177e-01,  2.23102574e-01,\n",
       "         2.14128929e-01,  2.05069769e-01,  1.95928655e-01,  1.86709175e-01,\n",
       "         1.77414947e-01,  1.68049613e-01,  1.58616846e-01,  1.49120339e-01,\n",
       "         1.39563809e-01,  1.29950993e-01,  1.20285651e-01,  1.10571558e-01,\n",
       "         1.00812508e-01,  9.10123075e-02,  8.11747799e-02,  7.13037592e-02,\n",
       "         6.14030905e-02,  5.14766283e-02,  4.15282347e-02,  3.15617782e-02,\n",
       "         2.15811321e-02,  1.15901727e-02,  1.59277843e-03, -7.45058060e-09,\n",
       "         0.00000000e+00,  5.00000007e-01,  5.00000007e-01,  4.99800047e-01,\n",
       "         4.99400247e-01,  4.98800807e-01,  4.98002005e-01,  4.97004201e-01,\n",
       "         4.95807833e-01,  4.94413417e-01,  4.92821549e-01,  4.91032903e-01,\n",
       "         4.89048231e-01,  4.86868363e-01,  4.84494205e-01,  4.81926741e-01,\n",
       "         4.79167031e-01,  4.76216210e-01,  4.73075491e-01,  4.69746157e-01,\n",
       "         4.66229570e-01,  4.62527163e-01,  4.58640442e-01,  4.54570986e-01,\n",
       "         4.50320445e-01,  4.45890540e-01,  4.41283062e-01,  4.36499871e-01,\n",
       "         4.31542896e-01,  4.26414133e-01,  4.21115645e-01,  4.15649562e-01,\n",
       "         4.10018078e-01,  4.04223451e-01,  3.98268001e-01,  3.92154113e-01,\n",
       "         3.85884230e-01,  3.79460858e-01,  3.72886560e-01,  3.66163957e-01,\n",
       "         3.59295729e-01,  3.52284609e-01,  3.45133386e-01,  3.37844904e-01,\n",
       "         3.30422056e-01,  3.22867788e-01,  3.15185097e-01,  3.07377028e-01,\n",
       "         2.99446671e-01,  2.91397165e-01,  2.83231694e-01,  2.74953484e-01,\n",
       "         2.66565804e-01,  2.58071965e-01,  2.49475316e-01,  2.40779245e-01,\n",
       "         2.31987177e-01,  2.23102574e-01,  2.14128929e-01,  2.05069769e-01,\n",
       "         1.95928655e-01,  1.86709175e-01,  1.77414947e-01,  1.68049613e-01,\n",
       "         1.58616846e-01,  1.49120339e-01,  1.39563809e-01,  1.29950993e-01,\n",
       "         1.20285651e-01,  1.10571558e-01,  1.00812508e-01,  9.10123075e-02,\n",
       "         8.11747799e-02,  7.13037592e-02,  6.14030905e-02,  5.14766283e-02,\n",
       "         4.15282347e-02,  3.15617782e-02,  2.15811321e-02,  1.15901727e-02,\n",
       "         1.59277843e-03,  0.00000000e+00]))"
      ]
     },
     "execution_count": 82,
     "metadata": {},
     "output_type": "execute_result"
    }
   ],
   "source": [
    "xc,yc=[-1.0,0.0,1.0],[-1.0,0.0,1.0]\n",
    "\n",
    "contour_complexe (f,0.25,xc,yc)"
   ]
  },
  {
   "cell_type": "code",
   "execution_count": 83,
   "metadata": {},
   "outputs": [
    {
     "data": {
      "image/png": "[encoded data removed]",
      "text/plain": [
       "<Figure size 432x288 with 1 Axes>"
      ]
     },
     "metadata": {
      "needs_background": "light"
     },
     "output_type": "display_data"
    }
   ],
   "source": [
    "X,Y=contour_complexe (f,0.25,xc,yc)\n",
    "plt.plot(X,Y)\n",
    "plt.axis(\"equal\")\n",
    "plt.show()"
   ]
  }
 ],
 "metadata": {
  "kernelspec": {
   "display_name": "Python 3",
   "language": "python",
   "name": "python3"
  },
  "language_info": {
   "codemirror_mode": {
    "name": "ipython",
    "version": 3
   },
   "file_extension": ".py",
   "mimetype": "text/x-python",
   "name": "python",
   "nbconvert_exporter": "python",
   "pygments_lexer": "ipython3",
   "version": "3.7.3"
  }
 },
 "nbformat": 4,
 "nbformat_minor": 2
}
