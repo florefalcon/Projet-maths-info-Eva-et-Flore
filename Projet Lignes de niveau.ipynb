{
 "cells": [
  {
   "cell_type": "markdown",
   "metadata": {},
   "source": [
    "# Projet numérique : lignes de niveau"
   ]
  },
  {
   "cell_type": "code",
   "execution_count": 19,
   "metadata": {},
   "outputs": [],
   "source": [
    "import autograd\n",
    "from autograd import numpy as np\n",
    "import matplotlib.pyplot as plt"
   ]
  },
  {
   "cell_type": "markdown",
   "metadata": {},
   "source": [
    "Exemples de fonction qui nous permettront de tester nos algorithmes :"
   ]
  },
  {
   "cell_type": "code",
   "execution_count": 35,
   "metadata": {},
   "outputs": [],
   "source": [
    "def f(x,y):\n",
    "    return(x**2+y**2)\n",
    "\n",
    "def g(x,y):\n",
    "    return(2*x**2+3*y)\n",
    "\n",
    "def h(x,y):\n",
    "    return(np.exp(x+y))"
   ]
  },
  {
   "cell_type": "markdown",
   "metadata": {},
   "source": [
    "## Contour simple"
   ]
  },
  {
   "cell_type": "markdown",
   "metadata": {},
   "source": [
    "### Amorce"
   ]
  },
  {
   "cell_type": "markdown",
   "metadata": {},
   "source": [
    "D'après le théorème des valeurs intermédiaires, et par continuité de $y \\rightarrow f(0,y)$, si $f(0,1) \\leq c \\leq f(0,0)$ ou $f(0,0) \\leq c \\leq f(0,1)$, alors il existe t tel que $f(0,t)=c$.\n",
    "Si cette condition est remplie, on peut approcher la solution t par dichotomie."
   ]
  },
  {
   "cell_type": "code",
   "execution_count": 38,
   "metadata": {},
   "outputs": [],
   "source": [
    "def find_seed(g,c=0,eps=2**(-26)):\n",
    "    a,b=0,1\n",
    "    if ((g(0,1)<=c<=g(0,0)) or (g(0,0)<=c<=g(0,1))):\n",
    "        while (b-a)>eps:\n",
    "            if g(0,(b+a)/2)>c:\n",
    "                b=(b+a)/2\n",
    "            else:\n",
    "                a=(b+a)/2\n",
    "        return((b+a)/2)\n",
    "    else:\n",
    "        return None    "
   ]
  },
  {
   "cell_type": "code",
   "execution_count": 39,
   "metadata": {},
   "outputs": [],
   "source": [
    "def find_seed_newton(g,c=0.0,eps=2**(-26)):\n",
    "    init=0.1\n",
    "    if ((g(0,1)<=c<=g(0,0)) or (g(0,0)<=c<=g(0,1))):\n",
    "        def f(y):\n",
    "            return(g(0,y)-c)\n",
    "        Y=[init,-f(init)/autograd.grad(f)(init)]\n",
    "        k=0\n",
    "        while abs(Y[k]-Y[k+1])>eps :\n",
    "            Y.append(Y[k]-(f(Y[k]))/autograd.grad(f)(Y[k]))\n",
    "            k+=1\n",
    "        return Y[-1]\n",
    "    else:\n",
    "        return None"
   ]
  },
  {
   "cell_type": "markdown",
   "metadata": {},
   "source": [
    "#### Comparaison des deux algorithmes en précision et en rapidité"
   ]
  },
  {
   "cell_type": "code",
   "execution_count": 44,
   "metadata": {},
   "outputs": [
    {
     "name": "stdout",
     "output_type": "stream",
     "text": [
      "7.450580596923828e-09\n",
      "5.37225819385867e-12\n",
      "1.4901161138336505e-09\n",
      "0.0\n",
      "-5.545926273775592e-09\n",
      "4.440892098500626e-16\n"
     ]
    }
   ],
   "source": [
    "print(find_seed(f,0.25)-0.5)\n",
    "print(find_seed_newton(f,0.25)-0.5)\n",
    "\n",
    "print(find_seed(g,0.3)-0.1)\n",
    "print(find_seed_newton(g,0.3)-0.1)\n",
    "\n",
    "print(find_seed(h,2)-np.log(2.0))\n",
    "print(find_seed_newton(h,2.0)-np.log(2.0))"
   ]
  },
  {
   "cell_type": "markdown",
   "metadata": {},
   "source": [
    "L'algorithme qui utilise la méthode de Newton a dans chacun des cas testés une bien meilleure précision."
   ]
  },
  {
   "cell_type": "code",
   "execution_count": 45,
   "metadata": {},
   "outputs": [
    {
     "name": "stdout",
     "output_type": "stream",
     "text": [
      "Temps d execution : 0.0009953975677490234 secondes ---\n",
      "Temps d execution : 0.004997968673706055 secondes ---\n",
      "Temps d execution : 0.0009610652923583984 secondes ---\n",
      "Temps d execution : 0.0019903182983398438 secondes ---\n",
      "Temps d execution : 0.0009913444519042969 secondes ---\n",
      "Temps d execution : 0.004002571105957031 secondes ---\n"
     ]
    }
   ],
   "source": [
    "import time\n",
    "\n",
    "start_time = time.time()\n",
    "find_seed(f,0.25)\n",
    "print(\"Temps d execution : %s secondes ---\" % (time.time() - start_time))\n",
    "\n",
    "start_time = time.time()\n",
    "find_seed_newton(f,0.1)\n",
    "print(\"Temps d execution : %s secondes ---\" % (time.time() - start_time))\n",
    "\n",
    "start_time = time.time()\n",
    "find_seed(g,0.3)\n",
    "print(\"Temps d execution : %s secondes ---\" % (time.time() - start_time))\n",
    "\n",
    "start_time = time.time()\n",
    "find_seed_newton(g,0.3)\n",
    "print(\"Temps d execution : %s secondes ---\" % (time.time() - start_time))\n",
    "\n",
    "start_time = time.time()\n",
    "find_seed(h,2.0)\n",
    "print(\"Temps d execution : %s secondes ---\" % (time.time() - start_time))\n",
    "\n",
    "start_time = time.time()\n",
    "find_seed_newton(h,2.0)\n",
    "print(\"Temps d execution : %s secondes ---\" % (time.time() - start_time))"
   ]
  },
  {
   "cell_type": "markdown",
   "metadata": {},
   "source": [
    "La méthode par dichotomie est dans chacun des exemples plus rapide (facteur 10) que la méthode de Newton. "
   ]
  },
  {
   "cell_type": "markdown",
   "metadata": {},
   "source": [
    "### Propagation"
   ]
  },
  {
   "cell_type": "markdown",
   "metadata": {},
   "source": [
    "**Propriété 1:**\n",
    "Soit $E$ un espace euclidien.\n",
    "Soit $U$ un ouvert de $E$ et $f:U\\rightarrow \\mathbb{R}$ différentiable en $a \\in U$\n",
    "Soit $X$ la ligne de niveau de $f$ passant par a. $X=\\{x \\in U / f(x)=a\\}$\n",
    "Soit $h \\in E$.\n",
    "Si h est tangent à $X$, alors $\\langle h,\\vec{\\mathrm{grad}}f(a) \\rangle = 0$"
   ]
  },
  {
   "cell_type": "markdown",
   "metadata": {},
   "source": [
    "On utilise cette propriété pour trouver à chaque étape un vecteur tangent à la ligne de niveau et on avance de \\delta dans cette direction"
   ]
  },
  {
   "cell_type": "code",
   "execution_count": 7,
   "metadata": {},
   "outputs": [
    {
     "data": {
      "text/plain": [
       "array([ 0.01, -0.  ])"
      ]
     },
     "execution_count": 7,
     "metadata": {},
     "output_type": "execute_result"
    }
   ],
   "source": [
    "def tang_norm(f,x,y,delta=0.01):\n",
    "    \"\"\"retourne un vecteur, de norme delta, orthogonal au gradient de f en (x,y), donc tangent à la ligne de niveau de f en (x,y)\"\"\"\n",
    "    g=autograd.grad\n",
    "    normed=delta/((g(f,0)(x,y)**2+g(f,1)(x,y)**2)**(0.5))\n",
    "    return np.r_[g(f,1)(x,y)*normed,-g(f,0)(x,y)*normed]\n",
    "\n",
    "tang_norm(f,0.0,0.5)\n"
   ]
  },
  {
   "cell_type": "code",
   "execution_count": 13,
   "metadata": {},
   "outputs": [],
   "source": [
    "def simple_contour (f,c=0.0,d=0.01):\n",
    "    eps=2**(-25)\n",
    "    x,y=[],[]\n",
    "    t=find_seed(f,c)\n",
    "    if isinstance(t,float):\n",
    "        x.append(0.0)\n",
    "        y.append(t)\n",
    "        (xi,yi)=(0.0,t)+tang_norm(f,0.0,t,d)\n",
    "        while (xi>eps and (1-eps)>xi and yi>eps and (1-eps)>yi):\n",
    "            x.append(xi)\n",
    "            y.append(yi)\n",
    "            (xi,yi)=(xi,yi)+tang_norm(f,xi,yi,d)\n",
    "        return (np.array(x),np.array(y))\n",
    "    else:\n",
    "        return (np.array(x),np.array(x))\n",
    "    "
   ]
  },
  {
   "cell_type": "code",
   "execution_count": 14,
   "metadata": {},
   "outputs": [
    {
     "data": {
      "image/png": "[encoded data removed]",
      "text/plain": [
       "<Figure size 432x288 with 1 Axes>"
      ]
     },
     "metadata": {
      "needs_background": "light"
     },
     "output_type": "display_data"
    }
   ],
   "source": [
    "X,Y=simple_contour(f,0.25,0.01)\n",
    "plt.plot(X,Y)\n",
    "plt.axis(\"equal\")\n",
    "plt.show()"
   ]
  },
  {
   "cell_type": "code",
   "execution_count": null,
   "metadata": {},
   "outputs": [],
   "source": []
  }
 ],
 "metadata": {
  "kernelspec": {
   "display_name": "Python 3",
   "language": "python",
   "name": "python3"
  },
  "language_info": {
   "codemirror_mode": {
    "name": "ipython",
    "version": 3
   },
   "file_extension": ".py",
   "mimetype": "text/x-python",
   "name": "python",
   "nbconvert_exporter": "python",
   "pygments_lexer": "ipython3",
   "version": "3.7.3"
  }
 },
 "nbformat": 4,
 "nbformat_minor": 2
}
