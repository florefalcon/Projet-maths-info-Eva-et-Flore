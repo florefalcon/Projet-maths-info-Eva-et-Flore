{
 "cells": [
  {
   "cell_type": "markdown",
   "metadata": {},
   "source": [
    "# Projet numérique : lignes de niveau"
   ]
  },
  {
   "cell_type": "code",
   "execution_count": 1,
   "metadata": {},
   "outputs": [],
   "source": [
    "import autograd\n",
    "from autograd import numpy as np\n",
    "import matplotlib.pyplot as plt"
   ]
  },
  {
   "cell_type": "markdown",
   "metadata": {},
   "source": [
    "Exemples de fonction qui nous permettront de tester nos algorithmes :"
   ]
  },
  {
   "cell_type": "code",
   "execution_count": 2,
   "metadata": {},
   "outputs": [],
   "source": [
    "def f(x,y):\n",
    "    return(x**2+y**2)\n",
    "\n",
    "def g(x,y):\n",
    "    return(2*x**2+3*y)\n",
    "\n",
    "def h(x,y):\n",
    "    return(2*(np.exp(-x**2-y**2)-np.exp(-(x-1)**2-(y-1)**2)))"
   ]
  },
  {
   "cell_type": "markdown",
   "metadata": {},
   "source": [
    "## Contour simple"
   ]
  },
  {
   "cell_type": "markdown",
   "metadata": {},
   "source": [
    "### Amorce"
   ]
  },
  {
   "cell_type": "markdown",
   "metadata": {},
   "source": [
    "D'après le théorème des valeurs intermédiaires, et par continuité de $y \\rightarrow f(0,y)$, si $f(0,1) \\leq c \\leq f(0,0)$ ou $f(0,0) \\leq c \\leq f(0,1)$, alors il existe t tel que $f(0,t)=c$.\n",
    "Si cette condition est remplie, on peut approcher la solution t par dichotomie."
   ]
  },
  {
   "cell_type": "code",
   "execution_count": 3,
   "metadata": {},
   "outputs": [],
   "source": [
    "def find_seed(g,c=0,eps=2**(-26)):\n",
    "    a,b=0,1\n",
    "    if ((g(0,1)<=c<=g(0,0)) or (g(0,0)<=c<=g(0,1))):\n",
    "        while (b-a)>eps:\n",
    "            if g(0,(b+a)/2)>c:\n",
    "                b=(b+a)/2\n",
    "            else:\n",
    "                a=(b+a)/2\n",
    "        return((b+a)/2)\n",
    "    else:\n",
    "        return None    "
   ]
  },
  {
   "cell_type": "markdown",
   "metadata": {},
   "source": [
    "On peut aussi rechercher un zéro de la fonction $y \\rightarrow f(0,y)-c$ à condition que sa dérivée ne s'annule pas sur $[0,1]$. Cependant cette méthode n'assure pas la convergence ou peut être peut être longue si la racine est loin du point de départ. Pour être sûr que l'algorithme termine on impose un nombre d'itération maximum."
   ]
  },
  {
   "cell_type": "code",
   "execution_count": 4,
   "metadata": {},
   "outputs": [],
   "source": [
    "def find_seed_newton(g,c=0.0,eps=2**(-26)):\n",
    "    it=0\n",
    "    init=0.1\n",
    "    if ((g(0,1)<=c<=g(0,0)) or (g(0,0)<=c<=g(0,1))):\n",
    "        def f(y):\n",
    "            return(g(0,y)-c)\n",
    "        Y=[init,-f(init)/autograd.grad(f)(init)]\n",
    "        k=0\n",
    "        while abs(Y[k]-Y[k+1])>eps and it<1000:\n",
    "            Y.append(Y[k]-(f(Y[k]))/autograd.grad(f)(Y[k]))\n",
    "            k+=1\n",
    "            it+=1\n",
    "        return Y[-1]\n",
    "    else:\n",
    "        return None"
   ]
  },
  {
   "cell_type": "markdown",
   "metadata": {},
   "source": [
    "#### Comparaison des deux algorithmes en précision et en rapidité"
   ]
  },
  {
   "cell_type": "code",
   "execution_count": 5,
   "metadata": {},
   "outputs": [
    {
     "name": "stdout",
     "output_type": "stream",
     "text": [
      "Erreur avec find_seed(f,0.25)\n",
      "7.450580596923828e-09\n",
      "Erreur avec find_seed_newton(f,0.25)\n",
      "5.37225819385867e-12\n",
      "Erreur avec find_seed(g,0.3)\n",
      "1.4901161138336505e-09\n",
      "Erreur avec find_seed_newton(g,0.3)\n",
      "0.0\n"
     ]
    }
   ],
   "source": [
    "print(\"Erreur avec find_seed(f,0.25)\")\n",
    "print(find_seed(f,0.25)-0.5)\n",
    "print(\"Erreur avec find_seed_newton(f,0.25)\")\n",
    "print(find_seed_newton(f,0.25)-0.5)\n",
    "\n",
    "print(\"Erreur avec find_seed(g,0.3)\")\n",
    "print(find_seed(g,0.3)-0.1)\n",
    "print(\"Erreur avec find_seed_newton(g,0.3)\")\n",
    "print(find_seed_newton(g,0.3)-0.1)"
   ]
  },
  {
   "cell_type": "markdown",
   "metadata": {},
   "source": [
    "L'algorithme qui utilise la méthode de Newton a dans chacun des cas testés une bien meilleure précision."
   ]
  },
  {
   "cell_type": "code",
   "execution_count": 6,
   "metadata": {},
   "outputs": [
    {
     "name": "stdout",
     "output_type": "stream",
     "text": [
      "Temps d execution : 0.0 secondes pour find_seed(f,0.25)\n",
      "Temps d execution : 0.005988121032714844 secondes pour find_seed_newton(f,0.25)\n",
      "Temps d execution : 0.0 secondes pour find_seed(g,0.3)\n",
      "Temps d execution : 0.001990079879760742 secondes pour find_seed_newton(g,0.3)\n"
     ]
    }
   ],
   "source": [
    "import time\n",
    "\n",
    "start_time = time.time()\n",
    "find_seed(f,0.25)\n",
    "print(\"Temps d execution : %s secondes pour find_seed(f,0.25)\" % (time.time() - start_time))\n",
    "\n",
    "start_time = time.time()\n",
    "find_seed_newton(f,0.25)\n",
    "print(\"Temps d execution : %s secondes pour find_seed_newton(f,0.25)\" % (time.time() - start_time))\n",
    "\n",
    "start_time = time.time()\n",
    "find_seed(g,0.3)\n",
    "print(\"Temps d execution : %s secondes pour find_seed(g,0.3)\" % (time.time() - start_time))\n",
    "\n",
    "start_time = time.time()\n",
    "find_seed_newton(g,0.3)\n",
    "print(\"Temps d execution : %s secondes pour find_seed_newton(g,0.3)\" % (time.time() - start_time))"
   ]
  },
  {
   "cell_type": "markdown",
   "metadata": {},
   "source": [
    "Cependant la méthode par dichotomie est dans chacun des exemples plus rapide (facteur 10) que la méthode de Newton. "
   ]
  },
  {
   "cell_type": "markdown",
   "metadata": {},
   "source": [
    "### Propagation"
   ]
  },
  {
   "cell_type": "markdown",
   "metadata": {},
   "source": [
    "#### Une première approche"
   ]
  },
  {
   "cell_type": "markdown",
   "metadata": {},
   "source": [
    "**Propriété 1:**\n",
    "Soit $E$ un espace euclidien.\n",
    "Soit $U$ un ouvert de $E$ et $f:U\\rightarrow \\mathbb{R}$ différentiable en $a \\in U$\n",
    "Soit $X$ la ligne de niveau de $f$ passant par a. $X=\\{x \\in U / f(x)=a\\}$\n",
    "Soit $h \\in E$.\n",
    "Si h est tangent à $X$, alors $\\langle h,\\vec{\\mathrm{grad}}f(a) \\rangle = 0$"
   ]
  },
  {
   "cell_type": "markdown",
   "metadata": {},
   "source": [
    "On utilise cette propriété pour trouver à chaque étape un vecteur tangent à la ligne de niveau et on avance sur une longueur $\\delta$ dans cette direction."
   ]
  },
  {
   "cell_type": "code",
   "execution_count": 7,
   "metadata": {},
   "outputs": [
    {
     "data": {
      "text/plain": [
       "array([ 0.01, -0.  ])"
      ]
     },
     "execution_count": 7,
     "metadata": {},
     "output_type": "execute_result"
    }
   ],
   "source": [
    "def tang_norm(f,x,y,delta=0.01):\n",
    "    \"\"\"retourne un vecteur, de norme delta, orthogonal au gradient de f en (x,y), donc tangent à la ligne de niveau de f en (x,y)\"\"\"\n",
    "    g=autograd.grad\n",
    "    normed=delta/((g(f,0)(x,y)**2+g(f,1)(x,y)**2)**(0.5))\n",
    "    return np.r_[g(f,1)(x,y)*normed,-g(f,0)(x,y)*normed]\n",
    "\n",
    "tang_norm(f,0.0,0.5)"
   ]
  },
  {
   "cell_type": "code",
   "execution_count": 8,
   "metadata": {},
   "outputs": [],
   "source": [
    "def simple_contour_naif(f,c=0.0,d=0.01):\n",
    "    eps=2**(-26)\n",
    "    x,y=[],[]\n",
    "    t=find_seed(f,c)\n",
    "    if isinstance(t,float):\n",
    "        x.append(0.0)\n",
    "        y.append(t)\n",
    "        (xi,yi)=(0.0,t)+tang_norm(f,0.0,t,d)\n",
    "        it=0    #on contrôle que la boucle while se termine\n",
    "        while (xi>eps and (1-eps)>xi and yi>eps and (1-eps)>yi) and it<10000:\n",
    "            x.append(xi)\n",
    "            y.append(yi)\n",
    "            (xi,yi)=(xi,yi)+tang_norm(f,xi,yi,d)\n",
    "            it+=1\n",
    "        return (np.array(x),np.array(y))\n",
    "    else:\n",
    "        return (np.array(x),np.array(x))"
   ]
  },
  {
   "cell_type": "code",
   "execution_count": 9,
   "metadata": {},
   "outputs": [
    {
     "data": {
      "image/png": "[encoded data removed]",
      "text/plain": [
       "<Figure size 432x288 with 1 Axes>"
      ]
     },
     "metadata": {
      "needs_background": "light"
     },
     "output_type": "display_data"
    }
   ],
   "source": [
    "X,Y=simple_contour_naif(f,0.25)\n",
    "plt.plot(X,Y)\n",
    "plt.axis(\"equal\")\n",
    "plt.show()"
   ]
  },
  {
   "cell_type": "code",
   "execution_count": 10,
   "metadata": {},
   "outputs": [
    {
     "data": {
      "image/png": "[encoded data removed]",
      "text/plain": [
       "<Figure size 432x288 with 1 Axes>"
      ]
     },
     "metadata": {
      "needs_background": "light"
     },
     "output_type": "display_data"
    }
   ],
   "source": [
    "X,Y=simple_contour_naif(g,0.3)\n",
    "plt.plot(X,Y)\n",
    "plt.axis(\"equal\")\n",
    "plt.show()"
   ]
  },
  {
   "cell_type": "markdown",
   "metadata": {},
   "source": [
    "Le résultat sur des courbes assez régulières est satisfaisant. On constate tout de même que la courbe s'éloigne petit à petit de la ligne de niveau réelle, en particulier dans le cas de la fonction f (norme au carré)."
   ]
  },
  {
   "cell_type": "markdown",
   "metadata": {},
   "source": [
    "#### Amélioration de la précision de la méthode"
   ]
  },
  {
   "cell_type": "markdown",
   "metadata": {},
   "source": [
    "Pour palier ce problème on peut utiliser une méthode de Newton en deux dimensions à partir du point $X \\in \\mathbb{R}^2$ obtenu en suivant l'orthogonal du gradient sur une longueur $\\delta$ . On définit ainsi la suite $(X_{k})$ : \n",
    "$$X_{0}=X$$\n",
    "$$X_{k+1}=X_{k}-J^{-1}f(X_{k}).f(X_{k})$$"
   ]
  },
  {
   "cell_type": "code",
   "execution_count": 11,
   "metadata": {},
   "outputs": [],
   "source": [
    "def Jac(f,x,y):\n",
    "    j=autograd.jacobian\n",
    "    return np.c_[j(f,0)(x,y),j(f,1)(x,y)]"
   ]
  },
  {
   "cell_type": "markdown",
   "metadata": {},
   "source": [
    "La fonction suivante réalise la méthode de Newton en partant d'un point obtenu par tang_norm. Pour être sûr que la fonction termine même lorsque la méthode de Newton ne converge pas on ajoute une condition sur le nombre d'itération."
   ]
  },
  {
   "cell_type": "code",
   "execution_count": 12,
   "metadata": {},
   "outputs": [],
   "source": [
    "def recherche_point_newton(f,xi,yi,d,c,eps):\n",
    "    \n",
    "    def F(x,y):\n",
    "        return np.array([f(x,y)-c,(x-xi)**2+(y-yi)**2-d**2])\n",
    "    \n",
    "    (x,y)=(xi,yi)+tang_norm(f,xi,yi,d)\n",
    "    \n",
    "    it=0 #compte le nombre d'itérations\n",
    "\n",
    "    while F(x,y)[0]**2+F(x,y)[1]**2 > eps**2 and it<100000:\n",
    "        J=Jac(F,x,y)\n",
    "        try:\n",
    "            (x,y)=(x,y)-np.dot(np.linalg.inv(J),F(x,y))\n",
    "        except np.linalg.LinAlgError :\n",
    "            return (x,y)\n",
    "        it+=1\n",
    "        \n",
    "    return (x,y)"
   ]
  },
  {
   "cell_type": "code",
   "execution_count": 13,
   "metadata": {},
   "outputs": [],
   "source": [
    "def simple_contour(f,c=0.0,d=0.01):\n",
    "    eps=2**(-25)\n",
    "    x,y=[],[]\n",
    "    t=find_seed(f,c)\n",
    "    if isinstance(t,float):\n",
    "        x.append(0.0)\n",
    "        y.append(t)\n",
    "        (xi,yi)=recherche_point_newton(f,0.0,t,d,c,eps)\n",
    "        x.append(xi)\n",
    "        y.append(yi)\n",
    "        it=0\n",
    "        while (xi>eps and (1-eps)>xi and yi>eps and (1-eps)>yi) and it <10000:\n",
    "            (xi,yi)=recherche_point_newton(f,xi,yi,d,c,eps)\n",
    "            x.append(xi)\n",
    "            y.append(yi)\n",
    "            it+=1\n",
    "        return (np.array(x),np.array(y))\n",
    "    else:\n",
    "        return (np.array(x),np.array(x))"
   ]
  },
  {
   "cell_type": "code",
   "execution_count": 14,
   "metadata": {},
   "outputs": [
    {
     "data": {
      "image/png": "[encoded data removed]",
      "text/plain": [
       "<Figure size 432x288 with 1 Axes>"
      ]
     },
     "metadata": {
      "needs_background": "light"
     },
     "output_type": "display_data"
    }
   ],
   "source": [
    "X,Y=simple_contour(f,c=0.25)\n",
    "plt.plot(X,Y)\n",
    "plt.axis(\"equal\")\n",
    "plt.show()"
   ]
  },
  {
   "cell_type": "code",
   "execution_count": 15,
   "metadata": {},
   "outputs": [
    {
     "data": {
      "image/png": "[encoded data removed]",
      "text/plain": [
       "<Figure size 432x288 with 1 Axes>"
      ]
     },
     "metadata": {
      "needs_background": "light"
     },
     "output_type": "display_data"
    }
   ],
   "source": [
    "X,Y=simple_contour(g,c=0.3)\n",
    "plt.plot(X,Y)\n",
    "plt.axis(\"equal\")\n",
    "plt.show()"
   ]
  },
  {
   "cell_type": "markdown",
   "metadata": {},
   "source": [
    "On constate effectivement une amélioration de la précision."
   ]
  },
  {
   "cell_type": "markdown",
   "metadata": {},
   "source": [
    "## Contour complexe"
   ]
  },
  {
   "cell_type": "markdown",
   "metadata": {},
   "source": [
    "On applique une méthode de recherche de racines par dichotomie sur chacun des segments délimitant les cellules."
   ]
  },
  {
   "cell_type": "code",
   "execution_count": 16,
   "metadata": {},
   "outputs": [],
   "source": [
    "def find_seed_cellule (g,c,i,j,xc,yc,eps=2**-26):\n",
    "    \"\"\"retourne la liste des coordonées des racines trouvées sur les segments délimitant la cellule, si elles existent\"\"\"\n",
    "    seeds=[]\n",
    "    \n",
    "    for k in range (0,2):\n",
    "        a,b=yc[j],yc[j+1]\n",
    "        if ((g(xc[i+k],yc[j])<=c<=g(xc[i+k],yc[j+1])) or (g(xc[i+k],yc[j+1])<=c<=g(xc[i+k],yc[j]))):\n",
    "            while (b-a)>eps:\n",
    "                if g(0,(b+a)/2)>c:\n",
    "                    b=(b+a)/2\n",
    "                else:\n",
    "                    a=(b+a)/2\n",
    "            seeds.append((xc[i+k],(b+a)/2))\n",
    "        \n",
    "        a,b=xc[i],xc[i+1]\n",
    "        if ((g(xc[i],yc[j+k])<=c<=g(xc[i+1],yc[j+k])) or (g(xc[i+1],yc[j+k])<=c<=g(xc[i],yc[j+k]))):\n",
    "            while (b-a)>eps:\n",
    "                if g(0,(b+a)/2)>c:\n",
    "                    b=(b+a)/2\n",
    "                else:\n",
    "                    a=(b+a)/2\n",
    "            seeds.append(((b+a)/2,yc[j+k]))\n",
    "            \n",
    "    return seeds"
   ]
  },
  {
   "cell_type": "markdown",
   "metadata": {},
   "source": [
    "Dans un premier algorithme on suit simplement l'orthogonal du gradient comme dans contour simple naïf. "
   ]
  },
  {
   "cell_type": "code",
   "execution_count": 17,
   "metadata": {},
   "outputs": [],
   "source": [
    "def contour_complexe_naif (g,c=0.0,xc=[0.0,1.0],yc=[0.0,1.0],d=0.01):\n",
    "    xs,ys=[],[]\n",
    "    for i in range (0,len(xc)-1):\n",
    "        for j in range (0,len(yc)-1):\n",
    "            xs_i_j=[]\n",
    "            ys_i_j=[]\n",
    "            seeds=find_seed_cellule (g,c,i,j,xc,yc)\n",
    "            for (tx,ty) in seeds:\n",
    "                eps=2**(-10)\n",
    "                xs_i_j.append(tx)\n",
    "                ys_i_j.append(ty)\n",
    "                (xi,yi)=(tx,ty)+tang_norm(f,tx,ty,d)\n",
    "                it=0\n",
    "                while (abs(xi-xc[i])>eps and abs(xi-xc[i+1])>eps and abs(yi-yc[j])>eps and abs(yi-yc[j+1])>eps)and it<10000:\n",
    "                    xs_i_j.append(xi)\n",
    "                    ys_i_j.append(yi)\n",
    "                    (xi,yi)=(xi,yi)+tang_norm(f,xi,yi,d)\n",
    "                    it+=1\n",
    "            xs.append(xs_i_j)\n",
    "            ys.append(ys_i_j)\n",
    "    return (np.array(xs),np.array(ys))"
   ]
  },
  {
   "cell_type": "markdown",
   "metadata": {},
   "source": [
    "Dans ce deuxième algorithme on suit l'orthogonal du gradient pour trouver un point pour initialiser la méthode de Newton en 2 dimensions (cf contour simple pour les détails)."
   ]
  },
  {
   "cell_type": "code",
   "execution_count": 18,
   "metadata": {},
   "outputs": [],
   "source": [
    "def contour_complexe (g,c=0.0,xc=[0.0,1.0],yc=[0.0,1.0],d=0.01):\n",
    "    xs,ys=[],[]\n",
    "    eps=2**-10\n",
    "    for i in range (0,len(xc)-1):\n",
    "        for j in range (0,len(yc)-1):\n",
    "            xs_i_j=[]\n",
    "            ys_i_j=[]\n",
    "            seeds=find_seed_cellule (g,c,i,j,xc,yc)\n",
    "            for (tx,ty) in seeds:\n",
    "                xs_i_j.append(tx)\n",
    "                ys_i_j.append(ty)\n",
    "                (xi,yi)=(tx,ty)+tang_norm(f,tx,ty,d)\n",
    "                it=0\n",
    "                while (abs(xi-xc[i])>eps and abs(xi-xc[i+1])>eps and abs(yi-yc[j])>eps and abs(yi-yc[j+1])>eps) and it<1000:\n",
    "                    (xi,yi)=recherche_point_newton(f,xi,yi,d,c,eps)\n",
    "                    xs_i_j.append(xi)\n",
    "                    ys_i_j.append(yi)\n",
    "                    it+=1\n",
    "                xs.append(xs_i_j)\n",
    "                ys.append(ys_i_j)\n",
    "    return (np.array(xs),np.array(ys))"
   ]
  },
  {
   "cell_type": "markdown",
   "metadata": {},
   "source": [
    "### Test des fonctions contour"
   ]
  },
  {
   "cell_type": "code",
   "execution_count": 28,
   "metadata": {},
   "outputs": [
    {
     "data": {
      "image/png": "[encoded data removed]",
      "text/plain": [
       "<Figure size 432x288 with 1 Axes>"
      ]
     },
     "metadata": {
      "needs_background": "light"
     },
     "output_type": "display_data"
    }
   ],
   "source": [
    "xc=[-1.0, 0.0, 1.0]\n",
    "yc=[-1.0, 0.0, 1.0]\n",
    "\n",
    "Xs,Ys=contour_complexe_naif (f,0.25,xc,yc)\n",
    "\n",
    "for (x,y) in zip(Xs,Ys):\n",
    "    if len(x)>10:\n",
    "        plt.plot(x,y)\n",
    "    \n",
    "plt.axis(\"equal\")\n",
    "plt.show()"
   ]
  },
  {
   "cell_type": "markdown",
   "metadata": {},
   "source": [
    "On constate une accumulation des errreurs qui empêchent le cercle de reboucler sur lui-même."
   ]
  },
  {
   "cell_type": "code",
   "execution_count": 29,
   "metadata": {},
   "outputs": [
    {
     "data": {
      "image/png": "[encoded data removed]",
      "text/plain": [
       "<Figure size 432x288 with 1 Axes>"
      ]
     },
     "metadata": {
      "needs_background": "light"
     },
     "output_type": "display_data"
    }
   ],
   "source": [
    "Xs,Ys=contour_complexe (f,0.25,xc,yc)\n",
    "\n",
    "for (x,y) in zip(Xs,Ys):\n",
    "    if len(x)>10:\n",
    "        plt.plot(x,y)\n",
    "    \n",
    "plt.axis(\"equal\")\n",
    "plt.show()"
   ]
  },
  {
   "cell_type": "markdown",
   "metadata": {},
   "source": [
    "Tandis que dans cette seconde méthode le tracé du cercle est beaucoup plus précis."
   ]
  },
  {
   "cell_type": "markdown",
   "metadata": {},
   "source": [
    "#### Fonction contour du professeur"
   ]
  },
  {
   "cell_type": "code",
   "execution_count": 31,
   "metadata": {},
   "outputs": [],
   "source": [
    "# Rotators\n",
    "# ------------------------------------------------------------------------------\n",
    "LEFT, UP, RIGHT, DOWN = 0, 1, 2, 3  # clockwise\n",
    "\n",
    "\n",
    "def rotate_direction(direction, n=1):\n",
    "    return (direction + n) % 4\n",
    "\n",
    "\n",
    "def rotate(x, y, n=1):\n",
    "    if n == 0:\n",
    "        return x, y\n",
    "    elif n >= 1:\n",
    "        return rotate(1 - y, x, n - 1)\n",
    "    else:\n",
    "        assert n < 0\n",
    "        return rotate(x, y, n=-3 * n)\n",
    "\n",
    "\n",
    "def rotate_function(f, n=1):\n",
    "    def rotated_function(x, y):\n",
    "        xr, yr = rotate(x, y, -n)\n",
    "        return f(xr, yr)\n",
    "\n",
    "    return rotated_function\n",
    "\n",
    "\n",
    "# Complex Contouring\n",
    "# ------------------------------------------------------------------------------\n",
    "\n",
    "# Customize the simple_contour function used in contour :\n",
    "# simple_contour = smart_simple_contour\n",
    "\n",
    "\n",
    "def contour(f, c, xs=[0.0, 1.0], ys=[0.0, 1.0], delta=0.01):\n",
    "    curves = []\n",
    "    nx, ny = len(xs), len(ys)\n",
    "    for i in range(nx - 1):\n",
    "        for j in range(ny - 1):\n",
    "            xmin, xmax = xs[i], xs[i + 1]\n",
    "            ymin, ymax = ys[j], ys[j + 1]\n",
    "\n",
    "            def f_cell(x, y):\n",
    "                return f(xmin + (xmax - xmin) * x, ymin + (ymax - ymin) * y)\n",
    "\n",
    "            done = set()\n",
    "            for n in [0, 1, 2, 3]:\n",
    "                if n not in done:\n",
    "                    rotated_f_cell = rotate_function(f_cell, n)\n",
    "                    x_curve_r, y_curve_r = simple_contour(rotated_f_cell, c, delta)\n",
    "                    exit = None\n",
    "                    if len(x_curve_r) >= 1:\n",
    "                        xf, yf = x_curve_r[-1], y_curve_r[-1]\n",
    "                        if xf == 0.0:\n",
    "                            exit = LEFT\n",
    "                        elif xf == 1.0:\n",
    "                            exit = RIGHT\n",
    "                        elif yf == 0.0:\n",
    "                            exit = DOWN\n",
    "                        elif yf == 1.0:\n",
    "                            exit = UP\n",
    "                    if exit is not None:  # a fully successful contour fragment\n",
    "                        exit = rotate_direction(exit, n)\n",
    "                        done.add(exit)\n",
    "\n",
    "                    x_curve, y_curve = [], []\n",
    "                    for x_r, y_r in zip(x_curve_r, y_curve_r):\n",
    "                        x, y = rotate(x_r, y_r, n=-n)\n",
    "                        x_curve.append(x)\n",
    "                        y_curve.append(y)\n",
    "                    x_curve = np.array(x_curve)\n",
    "                    y_curve = np.array(y_curve)\n",
    "                    curves.append(\n",
    "                        (xmin + (xmax - xmin) * x_curve, ymin + (ymax - ymin) * y_curve)\n",
    "                    )\n",
    "    return curves"
   ]
  },
  {
   "cell_type": "code",
   "execution_count": 33,
   "metadata": {},
   "outputs": [
    {
     "ename": "KeyboardInterrupt",
     "evalue": "",
     "output_type": "error",
     "traceback": [
      "\u001b[1;31m---------------------------------------------------------------------------\u001b[0m",
      "\u001b[1;31mKeyboardInterrupt\u001b[0m                         Traceback (most recent call last)",
      "\u001b[1;32m<ipython-input-33-fb20693ee40d>\u001b[0m in \u001b[0;36m<module>\u001b[1;34m\u001b[0m\n\u001b[1;32m----> 1\u001b[1;33m \u001b[0mlevel_curves\u001b[0m\u001b[1;33m=\u001b[0m\u001b[0mcontour\u001b[0m\u001b[1;33m(\u001b[0m\u001b[0mf\u001b[0m\u001b[1;33m,\u001b[0m\u001b[1;36m0.25\u001b[0m\u001b[1;33m)\u001b[0m\u001b[1;33m\u001b[0m\u001b[1;33m\u001b[0m\u001b[0m\n\u001b[0m\u001b[0;32m      2\u001b[0m \u001b[1;33m\u001b[0m\u001b[0m\n\u001b[0;32m      3\u001b[0m \u001b[1;32mfor\u001b[0m \u001b[0mx\u001b[0m\u001b[1;33m,\u001b[0m \u001b[0my\u001b[0m \u001b[1;32min\u001b[0m \u001b[0mlevel_curves\u001b[0m\u001b[1;33m:\u001b[0m\u001b[1;33m\u001b[0m\u001b[1;33m\u001b[0m\u001b[0m\n\u001b[0;32m      4\u001b[0m     \u001b[0mplt\u001b[0m\u001b[1;33m.\u001b[0m\u001b[0mplot\u001b[0m\u001b[1;33m(\u001b[0m\u001b[0mx\u001b[0m\u001b[1;33m,\u001b[0m \u001b[0my\u001b[0m\u001b[1;33m)\u001b[0m\u001b[1;33m\u001b[0m\u001b[1;33m\u001b[0m\u001b[0m\n",
      "\u001b[1;32m<ipython-input-31-1620dafedb29>\u001b[0m in \u001b[0;36mcontour\u001b[1;34m(f, c, xs, ys, delta)\u001b[0m\n\u001b[0;32m     48\u001b[0m                 \u001b[1;32mif\u001b[0m \u001b[0mn\u001b[0m \u001b[1;32mnot\u001b[0m \u001b[1;32min\u001b[0m \u001b[0mdone\u001b[0m\u001b[1;33m:\u001b[0m\u001b[1;33m\u001b[0m\u001b[1;33m\u001b[0m\u001b[0m\n\u001b[0;32m     49\u001b[0m                     \u001b[0mrotated_f_cell\u001b[0m \u001b[1;33m=\u001b[0m \u001b[0mrotate_function\u001b[0m\u001b[1;33m(\u001b[0m\u001b[0mf_cell\u001b[0m\u001b[1;33m,\u001b[0m \u001b[0mn\u001b[0m\u001b[1;33m)\u001b[0m\u001b[1;33m\u001b[0m\u001b[1;33m\u001b[0m\u001b[0m\n\u001b[1;32m---> 50\u001b[1;33m                     \u001b[0mx_curve_r\u001b[0m\u001b[1;33m,\u001b[0m \u001b[0my_curve_r\u001b[0m \u001b[1;33m=\u001b[0m \u001b[0msimple_contour\u001b[0m\u001b[1;33m(\u001b[0m\u001b[0mrotated_f_cell\u001b[0m\u001b[1;33m,\u001b[0m \u001b[0mc\u001b[0m\u001b[1;33m,\u001b[0m \u001b[0mdelta\u001b[0m\u001b[1;33m)\u001b[0m\u001b[1;33m\u001b[0m\u001b[1;33m\u001b[0m\u001b[0m\n\u001b[0m\u001b[0;32m     51\u001b[0m                     \u001b[0mexit\u001b[0m \u001b[1;33m=\u001b[0m \u001b[1;32mNone\u001b[0m\u001b[1;33m\u001b[0m\u001b[1;33m\u001b[0m\u001b[0m\n\u001b[0;32m     52\u001b[0m                     \u001b[1;32mif\u001b[0m \u001b[0mlen\u001b[0m\u001b[1;33m(\u001b[0m\u001b[0mx_curve_r\u001b[0m\u001b[1;33m)\u001b[0m \u001b[1;33m>=\u001b[0m \u001b[1;36m1\u001b[0m\u001b[1;33m:\u001b[0m\u001b[1;33m\u001b[0m\u001b[1;33m\u001b[0m\u001b[0m\n",
      "\u001b[1;32m<ipython-input-13-1a1bbcff23c6>\u001b[0m in \u001b[0;36msimple_contour\u001b[1;34m(f, c, d)\u001b[0m\n\u001b[0;32m      6\u001b[0m         \u001b[0mx\u001b[0m\u001b[1;33m.\u001b[0m\u001b[0mappend\u001b[0m\u001b[1;33m(\u001b[0m\u001b[1;36m0.0\u001b[0m\u001b[1;33m)\u001b[0m\u001b[1;33m\u001b[0m\u001b[1;33m\u001b[0m\u001b[0m\n\u001b[0;32m      7\u001b[0m         \u001b[0my\u001b[0m\u001b[1;33m.\u001b[0m\u001b[0mappend\u001b[0m\u001b[1;33m(\u001b[0m\u001b[0mt\u001b[0m\u001b[1;33m)\u001b[0m\u001b[1;33m\u001b[0m\u001b[1;33m\u001b[0m\u001b[0m\n\u001b[1;32m----> 8\u001b[1;33m         \u001b[1;33m(\u001b[0m\u001b[0mxi\u001b[0m\u001b[1;33m,\u001b[0m\u001b[0myi\u001b[0m\u001b[1;33m)\u001b[0m\u001b[1;33m=\u001b[0m\u001b[0mrecherche_point_newton\u001b[0m\u001b[1;33m(\u001b[0m\u001b[0mf\u001b[0m\u001b[1;33m,\u001b[0m\u001b[1;36m0.0\u001b[0m\u001b[1;33m,\u001b[0m\u001b[0mt\u001b[0m\u001b[1;33m,\u001b[0m\u001b[0md\u001b[0m\u001b[1;33m,\u001b[0m\u001b[0mc\u001b[0m\u001b[1;33m,\u001b[0m\u001b[0meps\u001b[0m\u001b[1;33m)\u001b[0m\u001b[1;33m\u001b[0m\u001b[1;33m\u001b[0m\u001b[0m\n\u001b[0m\u001b[0;32m      9\u001b[0m         \u001b[0mx\u001b[0m\u001b[1;33m.\u001b[0m\u001b[0mappend\u001b[0m\u001b[1;33m(\u001b[0m\u001b[0mxi\u001b[0m\u001b[1;33m)\u001b[0m\u001b[1;33m\u001b[0m\u001b[1;33m\u001b[0m\u001b[0m\n\u001b[0;32m     10\u001b[0m         \u001b[0my\u001b[0m\u001b[1;33m.\u001b[0m\u001b[0mappend\u001b[0m\u001b[1;33m(\u001b[0m\u001b[0myi\u001b[0m\u001b[1;33m)\u001b[0m\u001b[1;33m\u001b[0m\u001b[1;33m\u001b[0m\u001b[0m\n",
      "\u001b[1;32m<ipython-input-12-351d49a839c4>\u001b[0m in \u001b[0;36mrecherche_point_newton\u001b[1;34m(f, xi, yi, d, c, eps)\u001b[0m\n\u001b[0;32m     11\u001b[0m         \u001b[0mJ\u001b[0m\u001b[1;33m=\u001b[0m\u001b[0mJac\u001b[0m\u001b[1;33m(\u001b[0m\u001b[0mF\u001b[0m\u001b[1;33m,\u001b[0m\u001b[0mx\u001b[0m\u001b[1;33m,\u001b[0m\u001b[0my\u001b[0m\u001b[1;33m)\u001b[0m\u001b[1;33m\u001b[0m\u001b[1;33m\u001b[0m\u001b[0m\n\u001b[0;32m     12\u001b[0m         \u001b[1;32mtry\u001b[0m\u001b[1;33m:\u001b[0m\u001b[1;33m\u001b[0m\u001b[1;33m\u001b[0m\u001b[0m\n\u001b[1;32m---> 13\u001b[1;33m             \u001b[1;33m(\u001b[0m\u001b[0mx\u001b[0m\u001b[1;33m,\u001b[0m\u001b[0my\u001b[0m\u001b[1;33m)\u001b[0m\u001b[1;33m=\u001b[0m\u001b[1;33m(\u001b[0m\u001b[0mx\u001b[0m\u001b[1;33m,\u001b[0m\u001b[0my\u001b[0m\u001b[1;33m)\u001b[0m\u001b[1;33m-\u001b[0m\u001b[0mnp\u001b[0m\u001b[1;33m.\u001b[0m\u001b[0mdot\u001b[0m\u001b[1;33m(\u001b[0m\u001b[0mnp\u001b[0m\u001b[1;33m.\u001b[0m\u001b[0mlinalg\u001b[0m\u001b[1;33m.\u001b[0m\u001b[0minv\u001b[0m\u001b[1;33m(\u001b[0m\u001b[0mJ\u001b[0m\u001b[1;33m)\u001b[0m\u001b[1;33m,\u001b[0m\u001b[0mF\u001b[0m\u001b[1;33m(\u001b[0m\u001b[0mx\u001b[0m\u001b[1;33m,\u001b[0m\u001b[0my\u001b[0m\u001b[1;33m)\u001b[0m\u001b[1;33m)\u001b[0m\u001b[1;33m\u001b[0m\u001b[1;33m\u001b[0m\u001b[0m\n\u001b[0m\u001b[0;32m     14\u001b[0m         \u001b[1;32mexcept\u001b[0m \u001b[0mnp\u001b[0m\u001b[1;33m.\u001b[0m\u001b[0mlinalg\u001b[0m\u001b[1;33m.\u001b[0m\u001b[0mLinAlgError\u001b[0m \u001b[1;33m:\u001b[0m\u001b[1;33m\u001b[0m\u001b[1;33m\u001b[0m\u001b[0m\n\u001b[0;32m     15\u001b[0m             \u001b[1;32mreturn\u001b[0m \u001b[1;33m(\u001b[0m\u001b[0mx\u001b[0m\u001b[1;33m,\u001b[0m\u001b[0my\u001b[0m\u001b[1;33m)\u001b[0m\u001b[1;33m\u001b[0m\u001b[1;33m\u001b[0m\u001b[0m\n",
      "\u001b[1;32m~\\Anaconda3\\lib\\site-packages\\autograd\\tracer.py\u001b[0m in \u001b[0;36mf_wrapped\u001b[1;34m(*args, **kwargs)\u001b[0m\n\u001b[0;32m     46\u001b[0m             \u001b[1;32mreturn\u001b[0m \u001b[0mnew_box\u001b[0m\u001b[1;33m(\u001b[0m\u001b[0mans\u001b[0m\u001b[1;33m,\u001b[0m \u001b[0mtrace\u001b[0m\u001b[1;33m,\u001b[0m \u001b[0mnode\u001b[0m\u001b[1;33m)\u001b[0m\u001b[1;33m\u001b[0m\u001b[1;33m\u001b[0m\u001b[0m\n\u001b[0;32m     47\u001b[0m         \u001b[1;32melse\u001b[0m\u001b[1;33m:\u001b[0m\u001b[1;33m\u001b[0m\u001b[1;33m\u001b[0m\u001b[0m\n\u001b[1;32m---> 48\u001b[1;33m             \u001b[1;32mreturn\u001b[0m \u001b[0mf_raw\u001b[0m\u001b[1;33m(\u001b[0m\u001b[1;33m*\u001b[0m\u001b[0margs\u001b[0m\u001b[1;33m,\u001b[0m \u001b[1;33m**\u001b[0m\u001b[0mkwargs\u001b[0m\u001b[1;33m)\u001b[0m\u001b[1;33m\u001b[0m\u001b[1;33m\u001b[0m\u001b[0m\n\u001b[0m\u001b[0;32m     49\u001b[0m     \u001b[0mf_wrapped\u001b[0m\u001b[1;33m.\u001b[0m\u001b[0mfun\u001b[0m \u001b[1;33m=\u001b[0m \u001b[0mf_raw\u001b[0m\u001b[1;33m\u001b[0m\u001b[1;33m\u001b[0m\u001b[0m\n\u001b[0;32m     50\u001b[0m     \u001b[0mf_wrapped\u001b[0m\u001b[1;33m.\u001b[0m\u001b[0m_is_autograd_primitive\u001b[0m \u001b[1;33m=\u001b[0m \u001b[1;32mTrue\u001b[0m\u001b[1;33m\u001b[0m\u001b[1;33m\u001b[0m\u001b[0m\n",
      "\u001b[1;31mKeyboardInterrupt\u001b[0m: "
     ]
    }
   ],
   "source": [
    "level_curves=contour(f,0.25)\n",
    "\n",
    "for x, y in level_curves:\n",
    "    plt.plot(x, y)\n"
   ]
  }
 ],
 "metadata": {
  "kernelspec": {
   "display_name": "Python 3",
   "language": "python",
   "name": "python3"
  },
  "language_info": {
   "codemirror_mode": {
    "name": "ipython",
    "version": 3
   },
   "file_extension": ".py",
   "mimetype": "text/x-python",
   "name": "python",
   "nbconvert_exporter": "python",
   "pygments_lexer": "ipython3",
   "version": "3.7.3"
  }
 },
 "nbformat": 4,
 "nbformat_minor": 2
}
